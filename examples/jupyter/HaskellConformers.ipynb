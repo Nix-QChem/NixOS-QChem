{
 "cells": [
  {
   "cell_type": "markdown",
   "id": "b8a24c2f-6f63-4b93-b2cc-e58b1be6c6f8",
   "metadata": {},
   "source": [
    "# Cluster Analysis of Conformere Ensembles\n",
    "\n",
    "CREST has generated a large number of conformers for a rylene dye.\n",
    "The dye has 6 substituents of importance; 4 -X-Ph groups (X={O, S, Se}) and 2 butyl groups for solubility.\n",
    "While the orientation of the -X-Ph groups plays an important role for the spectroscopic properties, the butyl groups are merely for solubility and do not influence spectroscopical properties too much.\n",
    "We are only interested in different conformers with respect to the -X-Ph groups, but the butyl groups create large numbers of redundant conformers.\n",
    "Clustering algorithms and PCA is used to clean up the large number of conformers and form groups of similar conformers with respect to the -X-Ph groups.\n",
    "\n",
    "![Dye Structure](data/structure.png)\n"
   ]
  },
  {
   "cell_type": "code",
   "execution_count": 1,
   "id": "58cd3c51-6d62-497b-b2f5-55d6b5b9fb1e",
   "metadata": {},
   "outputs": [
    {
     "data": {
      "text/html": [
       "<style>/* Styles used for the Hoogle display in the pager */\n",
       ".hoogle-doc {\n",
       "display: block;\n",
       "padding-bottom: 1.3em;\n",
       "padding-left: 0.4em;\n",
       "}\n",
       ".hoogle-code {\n",
       "display: block;\n",
       "font-family: monospace;\n",
       "white-space: pre;\n",
       "}\n",
       ".hoogle-text {\n",
       "display: block;\n",
       "}\n",
       ".hoogle-name {\n",
       "color: green;\n",
       "font-weight: bold;\n",
       "}\n",
       ".hoogle-head {\n",
       "font-weight: bold;\n",
       "}\n",
       ".hoogle-sub {\n",
       "display: block;\n",
       "margin-left: 0.4em;\n",
       "}\n",
       ".hoogle-package {\n",
       "font-weight: bold;\n",
       "font-style: italic;\n",
       "}\n",
       ".hoogle-module {\n",
       "font-weight: bold;\n",
       "}\n",
       ".hoogle-class {\n",
       "font-weight: bold;\n",
       "}\n",
       ".get-type {\n",
       "color: green;\n",
       "font-weight: bold;\n",
       "font-family: monospace;\n",
       "display: block;\n",
       "white-space: pre-wrap;\n",
       "}\n",
       ".show-type {\n",
       "color: green;\n",
       "font-weight: bold;\n",
       "font-family: monospace;\n",
       "margin-left: 1em;\n",
       "}\n",
       ".mono {\n",
       "font-family: monospace;\n",
       "display: block;\n",
       "}\n",
       ".err-msg {\n",
       "color: red;\n",
       "font-style: italic;\n",
       "font-family: monospace;\n",
       "white-space: pre;\n",
       "display: block;\n",
       "}\n",
       "#unshowable {\n",
       "color: red;\n",
       "font-weight: bold;\n",
       "}\n",
       ".err-msg.in.collapse {\n",
       "padding-top: 0.7em;\n",
       "}\n",
       ".highlight-code {\n",
       "white-space: pre;\n",
       "font-family: monospace;\n",
       "}\n",
       ".suggestion-warning { \n",
       "font-weight: bold;\n",
       "color: rgb(200, 130, 0);\n",
       "}\n",
       ".suggestion-error { \n",
       "font-weight: bold;\n",
       "color: red;\n",
       "}\n",
       ".suggestion-name {\n",
       "font-weight: bold;\n",
       "}\n",
       "</style><div class=\"suggestion-name\" style=\"clear:both;\">Unused LANGUAGE pragma</div><div class=\"suggestion-row\" style=\"float: left;\"><div class=\"suggestion-warning\">Found:</div><div class=\"highlight-code\" id=\"haskell\">{-# LANGUAGE TypeApplications #-}</div></div><div class=\"suggestion-row\" style=\"float: left;\"><div class=\"suggestion-warning\">Why Not:</div><div class=\"highlight-code\" id=\"haskell\"></div></div><div class=\"suggestion-name\" style=\"clear:both;\">Unused LANGUAGE pragma</div><div class=\"suggestion-row\" style=\"float: left;\"><div class=\"suggestion-warning\">Found:</div><div class=\"highlight-code\" id=\"haskell\">{-# LANGUAGE OverloadedStrings #-}</div></div><div class=\"suggestion-row\" style=\"float: left;\"><div class=\"suggestion-warning\">Why Not:</div><div class=\"highlight-code\" id=\"haskell\"></div></div><div class=\"suggestion-name\" style=\"clear:both;\">Unused LANGUAGE pragma</div><div class=\"suggestion-row\" style=\"float: left;\"><div class=\"suggestion-warning\">Found:</div><div class=\"highlight-code\" id=\"haskell\">{-# LANGUAGE RecordWildCards #-}</div></div><div class=\"suggestion-row\" style=\"float: left;\"><div class=\"suggestion-warning\">Why Not:</div><div class=\"highlight-code\" id=\"haskell\"></div></div>"
      ],
      "text/plain": [
       "Line 2: Unused LANGUAGE pragma\n",
       "Found:\n",
       "{-# LANGUAGE TypeApplications #-}\n",
       "Why not:\n",
       "Line 3: Unused LANGUAGE pragma\n",
       "Found:\n",
       "{-# LANGUAGE OverloadedStrings #-}\n",
       "Why not:\n",
       "Line 4: Unused LANGUAGE pragma\n",
       "Found:\n",
       "{-# LANGUAGE RecordWildCards #-}\n",
       "Why not:"
      ]
     },
     "metadata": {},
     "output_type": "display_data"
    }
   ],
   "source": [
    "-- Enables useful Haskell language extensions.\n",
    "{-# LANGUAGE TypeApplications #-}\n",
    "{-# LANGUAGE OverloadedStrings #-}\n",
    "{-# LANGUAGE RecordWildCards #-}\n",
    "{-# LANGUAGE FlexibleContexts #-}\n",
    "\n",
    "-- Import Haskell libraries. \n",
    "-- ConClusion provides parsers and toolings to work with \n",
    "-- conformere trajectories and statistical tools.\n",
    "import RIO\n",
    "import qualified RIO.Text as Text\n",
    "import qualified RIO.Seq as Seq\n",
    "import Data.Attoparsec.Text hiding (D)\n",
    "import ConClusion.Chemistry.Topology\n",
    "import ConClusion.Numeric.Statistics\n",
    "import qualified Data.Massiv.Array as Massiv\n",
    "import Graphics.Rendering.Chart.Easy\n",
    "import Graphics.Rendering.Chart.Backend.Cairo\n",
    "import qualified Data.IntSet as IntSet"
   ]
  },
  {
   "cell_type": "markdown",
   "id": "e5858b67-c5a8-4c12-b964-a55accba5e3d",
   "metadata": {},
   "source": [
    "## Trajectory Parsing and Processing\n",
    "The trajectory is parsed into a sequence of cartesian molecular structures.\n",
    "From the geometries, a set of features can be calculated, that is suitable to discriminate the conformers of interest.\n",
    "In this case we focus on 8 dihedral angles (2 per -X-Ph group), that describe the rotation around the C-X bonds."
   ]
  },
  {
   "cell_type": "code",
   "execution_count": 2,
   "id": "e759c8e5-4153-46a4-a023-02d5b724ddea",
   "metadata": {},
   "outputs": [
    {
     "data": {
      "text/plain": []
     },
     "metadata": {},
     "output_type": "display_data"
    }
   ],
   "source": [
    "-- Defines the 8 dihedral angle features, that we are interested in.\n",
    "dihedFeatures = \n",
    "  [ -- Group 1\n",
    "    Dihedral (D 16 15 0 34),\n",
    "    Dihedral (D 15 0 35 43),\n",
    "    -- Group 2\n",
    "    Dihedral (D 9 8 7 95),\n",
    "    Dihedral (D 8 7 95 104),\n",
    "    -- Group 3\n",
    "    Dihedral (D 32 31 6 84),\n",
    "    Dihedral (D 31 6 84 85),\n",
    "    -- Group 4\n",
    "    Dihedral (D 27 28 5 73),\n",
    "    Dihedral (D 18 5 73 82)\n",
    "  ]\n",
    "\n",
    "-- Read and parse the trajectory\n",
    "trj <- readFileUtf8 \"data/crest_conformers.xyz\" \n",
    "  >>= return . parseOnly trajectory >>= \\t -> case t of\n",
    "    Left err -> throwString $ \"Could not parse trajectory. Error message: \" <> err\n",
    "    Right res -> return res\n",
    "\n",
    "-- Calculate the feature matrix from the trajectory, using the defined features.\n",
    "featureMat <- Massiv.compute @Massiv.U <$> getFeatures dihedFeatures trj"
   ]
  },
  {
   "cell_type": "markdown",
   "id": "3d11e22c-c90e-4ffd-aa9b-f928b57d7957",
   "metadata": {},
   "source": [
    "## Statistical Preprocessing\n",
    "The feature matrix should not be directly processed as is.\n",
    "Potentially completely different metrics have been combined (with different numerical ranges and units), and we can assume that the features are not completely independent from each other and couple to some extent (as the rotation of the -X-Ph groups sometimes hinder each other).\n",
    "Therefore three important preprocessing steps need to happen:\n",
    "  1. The feature matrix must be brought to mean deviation form\n",
    "  2. The mean deviation must be normalised to bring all components into the range of [-1 .. 1]\n",
    "  3. A Principal Component Analysis of the feature matrix reduces the dimensionalty from 16 (dihedrals actually need to features to form a valid metric) and removes couplings"
   ]
  },
  {
   "cell_type": "code",
   "execution_count": 3,
   "id": "cae569d9-ec1c-47e4-8844-f256c0827ae4",
   "metadata": {},
   "outputs": [
    {
     "data": {
      "text/plain": [
       "PCA RESULTS:\n",
       "  mean squared error: 4.90148545185776\n",
       "  captured behaviour: 24.999566449797378\n",
       "  eigenvalues       : [0.8695180202436779,0.7652486655491315,0.7173978415236926,0.6669662931179737,0.578260723434105,0.5016918915774834,0.39819260913832183,0.39629338481830295,0.3645107503806045,0.26073994389025495,0.2438114410409753,0.22228773338625513,0.2094834071159551,0.16589707997392086,9.767265527007267e-2,8.120770522559635e-2]"
      ]
     },
     "metadata": {},
     "output_type": "display_data"
    }
   ],
   "source": [
    "-- The `pca` function takes care of all three steps above and returns a comprehensive record type.\n",
    "-- We keep just 2 dimensions\n",
    "PCA{..} <- pca 2 featureMat\n",
    "\n",
    "-- Print information about the PCA.\n",
    "runSimpleApp . logInfo $\n",
    "    \"PCA RESULTS:\\n\\\n",
    "    \\  mean squared error: \" <> display mse <> \"\\n\\\n",
    "    \\  captured behaviour: \" <> display remaining <> \"\\n\\\n",
    "    \\  eigenvalues       : \" <> (displayShow . Massiv.toList $ allEigenValues)\n"
   ]
  },
  {
   "cell_type": "markdown",
   "id": "22e618b9-c4ff-443c-99ae-394ea8851569",
   "metadata": {},
   "source": [
    "## Clustering\n",
    "ConClusion provides 2 robust clustering algorithms, which do not depend on randomness or guesses (such as k-means): DBScan and Hierarchical Clustering.\n",
    "Both have a small set of parametres, that can be tuned, and both work on a distance matrix, that somehow describes the distances between (PCA-)features.\n",
    "Euclidean distances are the most common choice, but we could also use a general L_P norm or advanced distance metrics such as Mahalanobis distances.\n",
    "We will use DBScan and Euclidean distances here, for its speed, robustness and the fact, that we can easily exclude too small clusters."
   ]
  },
  {
   "cell_type": "code",
   "execution_count": 5,
   "id": "98b21497-be2c-4b1d-943f-88e50a1b63f8",
   "metadata": {},
   "outputs": [
    {
     "data": {
      "text/plain": []
     },
     "metadata": {},
     "output_type": "display_data"
    }
   ],
   "source": [
    "-- Use DBScan to find clusters in the PCA-features.\n",
    "clusters <- dbscan\n",
    "  euclidean -- Euclidean distances\n",
    "  5         -- minimal size of a cluster\n",
    "  0.1       -- search radius in the given distance metric\n",
    "  y         -- PCA feature matrix\n",
    "\n",
    "-- Plot the clustering results. Needs tuples of coordinates,\n",
    "-- therefore we look up the clustered groups in the feature matrix.\n",
    "pcaFeaturePerConf = Massiv.compute @Massiv.B . Massiv.innerSlices $ y\n",
    "clusterGroups <- forM clusters $ \\gr -> do\n",
    "  cg <- traverse (pcaFeaturePerConf Massiv.!?) (IntSet.toAscList gr)\n",
    "  return . fmap (\\c -> let cc = Massiv.compute @Massiv.B c in (cc Massiv.! 0, cc Massiv.! 1)) $ cg\n",
    "\n",
    "toFile def \"Clusters.png\" $ do\n",
    "   layout_title .= \"DBScan Clusters\"\n",
    "   \n",
    "   forM_ clusterGroups $ \\cg -> plot (points \"clusters\" cg)"
   ]
  },
  {
   "cell_type": "markdown",
   "id": "59cde161-f436-4990-a4d8-95eec30cf333",
   "metadata": {},
   "source": [
    "![Cluster analysis\"](Clusters.png)"
   ]
  },
  {
   "cell_type": "code",
   "execution_count": null,
   "id": "bf18859e-4d52-4d32-b74f-9d233b24eafc",
   "metadata": {},
   "outputs": [],
   "source": []
  }
 ],
 "metadata": {
  "kernelspec": {
   "display_name": "Haskell",
   "language": "haskell",
   "name": "haskell"
  },
  "language_info": {
   "codemirror_mode": "ihaskell",
   "file_extension": ".hs",
   "mimetype": "text/x-haskell",
   "name": "haskell",
   "pygments_lexer": "Haskell",
   "version": "8.10.7"
  }
 },
 "nbformat": 4,
 "nbformat_minor": 5
}
