{
 "cells": [
  {
   "cell_type": "code",
   "execution_count": 11,
   "id": "7cc3ca72-33ea-40fe-bcc2-bde606e51a2a",
   "metadata": {},
   "outputs": [
    {
     "data": {
      "text/plain": [
       "Cell([5.0, 5.0, 5.74])"
      ]
     },
     "execution_count": 11,
     "metadata": {},
     "output_type": "execute_result"
    }
   ],
   "source": [
    "from ase import Atoms\n",
    "from gpaw import GPAW, PW\n",
    "\n",
    "\n",
    "h2 = Atoms('H2', [(0, 0, 0), (0, 0, 0.74)])\n",
    "h2.center(vacuum=2.5)\n",
    "\n",
    "h2.cell"
   ]
  },
  {
   "cell_type": "code",
   "execution_count": 12,
   "id": "1d910a83-edc2-46f2-b87f-b68ebf6b0e00",
   "metadata": {},
   "outputs": [
    {
     "data": {
      "text/plain": [
       "array([[2.5 , 2.5 , 2.5 ],\n",
       "       [2.5 , 2.5 , 3.24]])"
      ]
     },
     "execution_count": 12,
     "metadata": {},
     "output_type": "execute_result"
    }
   ],
   "source": [
    "h2.positions"
   ]
  },
  {
   "cell_type": "code",
   "execution_count": 13,
   "id": "34607f86-1571-491a-ad75-3eb19c6fa6a7",
   "metadata": {},
   "outputs": [
    {
     "data": {
      "text/plain": [
       "-6.631111781412178"
      ]
     },
     "execution_count": 13,
     "metadata": {},
     "output_type": "execute_result"
    }
   ],
   "source": [
    "h2.calc = GPAW(xc='PBE', mode=PW(300), txt='h2.txt')#\n",
    "h2.get_potential_energy()"
   ]
  },
  {
   "cell_type": "code",
   "execution_count": 14,
   "id": "e70b021e-3d35-447a-919e-74c063fbc2c2",
   "metadata": {},
   "outputs": [
    {
     "data": {
      "text/plain": [
       "array([[ 7.92282390e-32,  7.92282390e-32, -6.39206064e-01],\n",
       "       [-2.97105896e-31, -1.58456478e-31,  6.39206064e-01]])"
      ]
     },
     "execution_count": 14,
     "metadata": {},
     "output_type": "execute_result"
    }
   ],
   "source": [
    "h2.get_forces()"
   ]
  },
  {
   "cell_type": "code",
   "execution_count": null,
   "id": "05aa2857-65ed-4a1e-b019-9460f8c62dbe",
   "metadata": {},
   "outputs": [],
   "source": []
  }
 ],
 "metadata": {
  "kernelspec": {
   "display_name": "Python 3 (ipykernel)",
   "language": "python",
   "name": "python3"
  },
  "language_info": {
   "codemirror_mode": {
    "name": "ipython",
    "version": 3
   },
   "file_extension": ".py",
   "mimetype": "text/x-python",
   "name": "python",
   "nbconvert_exporter": "python",
   "pygments_lexer": "ipython3",
   "version": "3.9.6"
  }
 },
 "nbformat": 4,
 "nbformat_minor": 5
}
